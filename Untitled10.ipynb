{
 "cells": [
  {
   "cell_type": "code",
   "execution_count": 1,
   "id": "b39f273d-3343-4bd2-9ff8-26d7a548848e",
   "metadata": {},
   "outputs": [],
   "source": [
    "#Q1. What is an Exception in python? Write the difference between Exceptions and Syntax errors.\n",
    "#In Python, an Exception is an error that occurs during the execution of a program. When an Exception occurs, the program stops\n",
    "#executing and Python raises an error message that describes the type of exception that occurred and the line of code where the\n",
    "#exception occurred.\n",
    "\n",
    "#Exceptions can occur for a variety of reasons, such as when a program tries to perform an operation on data that is not the \n",
    "#expected type or when a program tries to access a resource that is not available. Python provides a set of built-in Exception\n",
    "#classes that can be used to handle different types of exceptions.\n",
    "\n",
    "#Syntax errors, on the other hand, occur when there is a problem with the syntax of the Python code itself. These errors occur \n",
    "#before the program is executed and are caught by the Python interpreter before the code is run. Examples of syntax errors \n",
    "#include forgetting to close a parentheses or a quotation mark, or using an incorrect keyword or operator.\n",
    "\n",
    "#Here's an example that demonstrates the difference between Exceptions and Syntax errors:"
   ]
  },
  {
   "cell_type": "code",
   "execution_count": 2,
   "id": "9bf83150-7472-4327-b5f7-abcc2b11bf81",
   "metadata": {},
   "outputs": [
    {
     "ename": "SyntaxError",
     "evalue": "invalid syntax. Maybe you meant '==' or ':=' instead of '='? (10888459.py, line 9)",
     "output_type": "error",
     "traceback": [
      "\u001b[0;36m  Cell \u001b[0;32mIn[2], line 9\u001b[0;36m\u001b[0m\n\u001b[0;31m    if b = 5:\u001b[0m\n\u001b[0m       ^\u001b[0m\n\u001b[0;31mSyntaxError\u001b[0m\u001b[0;31m:\u001b[0m invalid syntax. Maybe you meant '==' or ':=' instead of '='?\n"
     ]
    }
   ],
   "source": [
    "# Example of an Exception\n",
    "try:\n",
    "    a = 10 / 0\n",
    "except ZeroDivisionError:\n",
    "    print(\"Error: Division by zero\")\n",
    "\n",
    "# Example of a Syntax error\n",
    "b = 10\n",
    "if b = 5:\n",
    "    print(\"b is equal to 5\")"
   ]
  },
  {
   "cell_type": "code",
   "execution_count": 3,
   "id": "1bcde69e-cb7d-48fd-8542-037f99265a64",
   "metadata": {},
   "outputs": [],
   "source": [
    "#In the first example, we try to divide the number 10 by 0, which is not allowed. This causes a ZeroDivisionError Exception to\n",
    "#be raised, which we catch and handle by printing an error message.\n",
    "\n",
    "#In the second example, we have a syntax error in the if statement, where we are using the assignment operator (=) instead of \n",
    "#the equality operator (==). This causes a syntax error, which is caught by the Python interpreter and prevents the program \n",
    "#from executing.\n",
    "\n",
    "#In summary, Exceptions are errors that occur during the execution of a program, while Syntax errors are errors that occur \n",
    "#before the program is executed, due to problems with the syntax of the Python code itself."
   ]
  },
  {
   "cell_type": "code",
   "execution_count": 4,
   "id": "d157521f-79be-4de4-8a79-14adeba0ac43",
   "metadata": {},
   "outputs": [],
   "source": [
    "#Q2. What happens when an exception is not handled? Explain with an example\n",
    "#When an exception is not handled in a Python program, it will cause the program to terminate and an error message will be \n",
    "#displayed that describes the type of exception that occurred and the line of code where the exception occurred.\n",
    "\n",
    "#Here's an example that demonstrates what happens when an exception is not handled:"
   ]
  },
  {
   "cell_type": "code",
   "execution_count": 5,
   "id": "dae5e28f-829f-4e74-b57c-85b2ca96f0ad",
   "metadata": {},
   "outputs": [
    {
     "ename": "ZeroDivisionError",
     "evalue": "division by zero",
     "output_type": "error",
     "traceback": [
      "\u001b[0;31m---------------------------------------------------------------------------\u001b[0m",
      "\u001b[0;31mZeroDivisionError\u001b[0m                         Traceback (most recent call last)",
      "Cell \u001b[0;32mIn[5], line 2\u001b[0m\n\u001b[1;32m      1\u001b[0m \u001b[38;5;66;03m# Example of an unhandled exception\u001b[39;00m\n\u001b[0;32m----> 2\u001b[0m a \u001b[38;5;241m=\u001b[39m \u001b[38;5;241;43m10\u001b[39;49m\u001b[43m \u001b[49m\u001b[38;5;241;43m/\u001b[39;49m\u001b[43m \u001b[49m\u001b[38;5;241;43m0\u001b[39;49m\n\u001b[1;32m      3\u001b[0m \u001b[38;5;28mprint\u001b[39m(\u001b[38;5;124m\"\u001b[39m\u001b[38;5;124mResult: \u001b[39m\u001b[38;5;124m\"\u001b[39m, a)\n",
      "\u001b[0;31mZeroDivisionError\u001b[0m: division by zero"
     ]
    }
   ],
   "source": [
    "# Example of an unhandled exception\n",
    "a = 10 / 0\n",
    "print(\"Result: \", a)"
   ]
  },
  {
   "cell_type": "code",
   "execution_count": 6,
   "id": "06ed7759-f5cc-40d3-b4b7-701004495cf1",
   "metadata": {},
   "outputs": [],
   "source": [
    "#As we can see from the error message, Python tells us that a ZeroDivisionError occurred and that it was caused by a division \n",
    "#by zero on line 1 of the code. The \"Traceback\" section of the error message shows the sequence of function calls that led to \n",
    "#the exception.\n",
    "\n",
    "#In summary, if an exception is not handled in a Python program, it will cause the program to terminate and display an error \n",
    "#message that describes the type of exception that occurred and the line of code where the exception occurred. It's important \n",
    "#to handle exceptions in your code to prevent unexpected program termination and to provide a graceful way to handle errors."
   ]
  },
  {
   "cell_type": "code",
   "execution_count": 7,
   "id": "0cc7b901-cb8b-42fb-b534-b4fb39da02a1",
   "metadata": {},
   "outputs": [],
   "source": [
    "#Q3. Which Python statements are used to catch and handle exceptions? Explain with an example\n",
    "#In Python, the try and except statements are used to catch and handle exceptions. The try statement is used to enclose a block\n",
    "#of code that might raise an exception, while the except statement is used to specify how to handle the exception if one is \n",
    "#raised.\n",
    "\n",
    "#Here's an example that demonstrates how to catch and handle an exception in Python using try and except:"
   ]
  },
  {
   "cell_type": "code",
   "execution_count": 8,
   "id": "43486533-b02d-45ed-aa5f-7373dbfd00df",
   "metadata": {},
   "outputs": [
    {
     "name": "stdout",
     "output_type": "stream",
     "text": [
      "Error: Division by zero\n"
     ]
    }
   ],
   "source": [
    "try:\n",
    "    a = 10 / 0\n",
    "except ZeroDivisionError:\n",
    "    print(\"Error: Division by zero\")"
   ]
  },
  {
   "cell_type": "code",
   "execution_count": 9,
   "id": "10d1eead-407d-4c7e-aaff-52ab7f023e4e",
   "metadata": {},
   "outputs": [],
   "source": [
    "#Q4. Explain with an example:"
   ]
  },
  {
   "cell_type": "code",
   "execution_count": 10,
   "id": "df326320-03a7-4689-bb60-47d8e1b4698b",
   "metadata": {},
   "outputs": [],
   "source": [
    "#a. try and else b. finally c. raise"
   ]
  },
  {
   "cell_type": "code",
   "execution_count": 11,
   "id": "58b2ed3c-f6a3-4364-845a-5a23f6043c62",
   "metadata": {},
   "outputs": [
    {
     "name": "stdout",
     "output_type": "stream",
     "text": [
      "a = 2.0\n"
     ]
    }
   ],
   "source": [
    "#In Python, the try statement can be followed by an optional else block. The else block is executed only if the try block does\n",
    "#not raise an exception. It is often used to specify code that should be executed regardless of whether an exception occurred \n",
    "#or not. Here's an example:\n",
    "\n",
    "#python Copy code try:\n",
    "\n",
    "try:\n",
    "    a = 10 / 5\n",
    "except ZeroDivisionError:\n",
    "    print(\"Error: Division by zero\")\n",
    "else:\n",
    "    print(\"a =\", a)"
   ]
  },
  {
   "cell_type": "code",
   "execution_count": 12,
   "id": "732e5380-c857-49e6-a052-1fa25ce87881",
   "metadata": {},
   "outputs": [
    {
     "name": "stdout",
     "output_type": "stream",
     "text": [
      "Line 1\n",
      "Line 2\n",
      "Line 3\n",
      "\n"
     ]
    }
   ],
   "source": [
    "#b. finally:\n",
    "\n",
    "#In Python, the finally block can be used to specify code that should be executed regardless of whether an exception was raised\n",
    "#or not. The finally block is always executed, even if an exception occurred and was caught by an except block. Here's an \n",
    "#example:\n",
    "\n",
    "try:\n",
    "    file = open(\"example.txt\", \"r\")\n",
    "    contents = file.read()\n",
    "    print(contents)\n",
    "except FileNotFoundError:\n",
    "    print(\"Error: File not found\")\n",
    "finally:\n",
    "    file.close()"
   ]
  },
  {
   "cell_type": "code",
   "execution_count": 13,
   "id": "608a9bfe-af38-4cf1-8ad1-5888dc705ef4",
   "metadata": {},
   "outputs": [
    {
     "name": "stdout",
     "output_type": "stream",
     "text": [
      "Error: Division by zero\n"
     ]
    }
   ],
   "source": [
    "#c. raise:\n",
    "\n",
    "#In Python, the raise statement can be used to raise an exception manually. It is often used to indicate that an error has \n",
    "#occurred and to stop the execution of the program. Here's an example:\n",
    "\n",
    "def divide(a, b):\n",
    "    if b == 0:\n",
    "        raise ZeroDivisionError(\"Error: Division by zero\")\n",
    "    else:\n",
    "        return a / b\n",
    "\n",
    "try:\n",
    "    result = divide(10, 0)\n",
    "except ZeroDivisionError as e:\n",
    "    print(e)"
   ]
  },
  {
   "cell_type": "code",
   "execution_count": 14,
   "id": "0c07df34-16f5-4b99-933d-5d24d1f58a13",
   "metadata": {},
   "outputs": [],
   "source": [
    "#Q5. What are Custom Exceptions in python? Why do we need Custom Exceptions? Explain with an example\n",
    "#In Python, custom exceptions can be defined by creating a new class that inherits from the built-in Exception class. These \n",
    "#custom exceptions can be used to represent specific error conditions that are not covered by the built-in exceptions, and can\n",
    "#provide more specific information about what went wrong in the code.\n",
    "\n",
    "#We need custom exceptions in Python when we want to raise exceptions that are specific to our own code or application. By \n",
    "#creating custom exceptions, we can give more meaningful error messages and provide better feedback to the user. This can help \n",
    "#with debugging and troubleshooting, and can make our code more readable and maintainable.\n",
    "\n",
    "#Here's an example of how to create a custom exception in Python:"
   ]
  },
  {
   "cell_type": "code",
   "execution_count": 15,
   "id": "fb8046be-3915-4e09-9d5e-b86398469f6d",
   "metadata": {},
   "outputs": [
    {
     "name": "stdout",
     "output_type": "stream",
     "text": [
      "Error: Negative number not allowed: -5\n"
     ]
    }
   ],
   "source": [
    "class NegativeNumberError(Exception):\n",
    "    def __init__(self, number):\n",
    "        self.number = number\n",
    "        self.message = \"Error: Negative number not allowed\"\n",
    "        super().__init__(self.message)\n",
    "\n",
    "    def __str__(self):\n",
    "        return f\"{self.message}: {self.number}\"\n",
    "\n",
    "def divide(a, b):\n",
    "    if b < 0:\n",
    "        raise NegativeNumberError(b)\n",
    "    else:\n",
    "        return a / b\n",
    "\n",
    "try:\n",
    "    result = divide(10, -5)\n",
    "except NegativeNumberError as e:\n",
    "    print(e)"
   ]
  },
  {
   "cell_type": "code",
   "execution_count": 16,
   "id": "d11520a4-7af6-4e47-bbbd-365914fb7fa5",
   "metadata": {},
   "outputs": [],
   "source": [
    "#Q6. Create custom exception class. Use this class to handle an exception."
   ]
  },
  {
   "cell_type": "code",
   "execution_count": 17,
   "id": "5aa13303-d2dd-4f84-8c62-ec44198e3513",
   "metadata": {},
   "outputs": [
    {
     "name": "stdout",
     "output_type": "stream",
     "text": [
      "Error: Division by zero not allowed\n"
     ]
    }
   ],
   "source": [
    "class CustomException(Exception):\n",
    "    def __init__(self, message):\n",
    "        self.message = message\n",
    "        super().__init__(self.message)\n",
    "\n",
    "def divide(a, b):\n",
    "    if b == 0:\n",
    "        raise CustomException(\"Error: Division by zero not allowed\")\n",
    "    else:\n",
    "        return a / b\n",
    "\n",
    "try:\n",
    "    result = divide(10, 0)\n",
    "except CustomException as e:\n",
    "    print(e.message)"
   ]
  },
  {
   "cell_type": "code",
   "execution_count": null,
   "id": "df734a79-a039-44c5-a5a3-bd40ff9ee0c5",
   "metadata": {},
   "outputs": [],
   "source": []
  }
 ],
 "metadata": {
  "kernelspec": {
   "display_name": "Python 3 (ipykernel)",
   "language": "python",
   "name": "python3"
  },
  "language_info": {
   "codemirror_mode": {
    "name": "ipython",
    "version": 3
   },
   "file_extension": ".py",
   "mimetype": "text/x-python",
   "name": "python",
   "nbconvert_exporter": "python",
   "pygments_lexer": "ipython3",
   "version": "3.10.8"
  }
 },
 "nbformat": 4,
 "nbformat_minor": 5
}
